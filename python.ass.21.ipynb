{
 "cells": [
  {
   "cell_type": "markdown",
   "id": "f9152ec8",
   "metadata": {},
   "source": [
    "# 1. Add the current date to the text file today.txt as a string."
   ]
  },
  {
   "cell_type": "code",
   "execution_count": null,
   "id": "b3130b62",
   "metadata": {},
   "outputs": [],
   "source": [
    "To add the current date to the text file \"today.txt\" as a string, you can use the following code:\n",
    "from datetime import date\n",
    "\n",
    "# Get the current date\n",
    "current_date = date.today()\n",
    "\n",
    "# Open the file in append mode and write the date\n",
    "with open('today.txt', 'a') as file:\n",
    "    file.write(str(current_date))\n",
    "\n",
    "# Confirm that the date has been written to the file\n",
    "print(\"Date has been added to today.txt.\")\n",
    "\n",
    "This code imports the date class from the datetime module to get the current date. It then opens the file \"today.txt\" in append mode using a with statement, and writes the string representation of the current date to the file. Finally, it prints a confirmation message."
   ]
  },
  {
   "cell_type": "markdown",
   "id": "f833f3f8",
   "metadata": {},
   "source": [
    "# 2. Read the text file today.txt into the string today_string."
   ]
  },
  {
   "cell_type": "code",
   "execution_count": null,
   "id": "b6387988",
   "metadata": {},
   "outputs": [],
   "source": [
    "To read the contents of the text file \"today.txt\" into a string variable called today_string, you can use the following code:\n",
    "with open('today.txt', 'r') as file:\n",
    "    today_string = file.read()\n",
    "\n",
    "# Print the contents of today_string\n",
    "print(today_string)\n",
    "\n",
    "This code opens the file \"today.txt\" in read mode using a with statement, and then reads the entire contents of the file using the read() method. The contents are stored in the today_string variable. Finally, it prints the contents of today_string."
   ]
  },
  {
   "cell_type": "markdown",
   "id": "3be5e1bc",
   "metadata": {},
   "source": [
    "# 3. Parse the date from today_string."
   ]
  },
  {
   "cell_type": "code",
   "execution_count": null,
   "id": "30af0534",
   "metadata": {},
   "outputs": [],
   "source": [
    "To parse the date from the today_string variable, you can use the datetime module in Python. Here's an example:\n",
    "from datetime import datetime\n",
    "\n",
    "# Assuming the date in today_string is in the format \"YYYY-MM-DD\"\n",
    "date_format = \"%Y-%m-%d\"\n",
    "\n",
    "# Parse the date from today_string\n",
    "parsed_date = datetime.strptime(today_string.strip(), date_format).date()\n",
    "\n",
    "# Print the parsed date\n",
    "print(parsed_date)\n",
    "\n",
    "In this code, we use the strptime function from the datetime module to parse the date from today_string. The date_format variable specifies the format of the date string in today_string (\"YYYY-MM-DD\" in this example). We strip any leading or trailing whitespace from today_string using the strip() method. The parsed date is stored in the parsed_date variable, which is of type datetime.date. Finally, we print the parsed date."
   ]
  },
  {
   "cell_type": "markdown",
   "id": "8c23312c",
   "metadata": {},
   "source": [
    "# 4. List the files in your current directory"
   ]
  },
  {
   "cell_type": "code",
   "execution_count": null,
   "id": "a963f268",
   "metadata": {},
   "outputs": [],
   "source": [
    "To list the files in the current directory, you can use the os module in Python. Here's an example:\n",
    "import os\n",
    "\n",
    "# Get the list of files in the current directory\n",
    "files = os.listdir()\n",
    "\n",
    "# Print the list of files\n",
    "for file in files:\n",
    "    print(file)\n",
    "\n",
    "This code uses the listdir() function from the os module to retrieve a list of files in the current directory. The listdir() function returns a list of strings, where each string represents a file name in the directory. We then iterate over the list of files and print each file name."
   ]
  },
  {
   "cell_type": "markdown",
   "id": "e4447fda",
   "metadata": {},
   "source": [
    "# 5. Create a list of all of the files in your parent directory (minimum five files should be available)."
   ]
  },
  {
   "cell_type": "code",
   "execution_count": null,
   "id": "8a589373",
   "metadata": {},
   "outputs": [],
   "source": [
    "To create a list of files in the parent directory, you can use the os module along with the listdir() function. Here's an example:\n",
    "import os\n",
    "\n",
    "# Get the parent directory path\n",
    "parent_directory = os.path.abspath('..')\n",
    "\n",
    "# Get the list of files in the parent directory\n",
    "files = os.listdir(parent_directory)\n",
    "\n",
    "# Print the list of files\n",
    "for file in files:\n",
    "    print(file)\n",
    "\n",
    "    This code retrieves the absolute path of the parent directory using os.path.abspath('..'). Then, it uses os.listdir() to obtain the list of files in the parent directory. Finally, it iterates over the list of files and prints each file name."
   ]
  },
  {
   "cell_type": "markdown",
   "id": "3927f92e",
   "metadata": {},
   "source": [
    "# 6. Use multiprocessing to create three separate processes. Make each one wait a random number of seconds between one and five, print the current time, and then exit."
   ]
  },
  {
   "cell_type": "code",
   "execution_count": null,
   "id": "047068de",
   "metadata": {},
   "outputs": [],
   "source": [
    "Here's an example of how you can use the multiprocessing module to create three separate processes that wait for a random number of seconds and print the current time before exiting:\n",
    "import multiprocessing\n",
    "import random\n",
    "import time\n",
    "from datetime import datetime\n",
    "\n",
    "def worker():\n",
    "    wait_time = random.randint(1, 5)\n",
    "    time.sleep(wait_time)\n",
    "    current_time = datetime.now().strftime(\"%Y-%m-%d %H:%M:%S\")\n",
    "    print(f\"Process {multiprocessing.current_process().pid} waited {wait_time} seconds. Current time: {current_time}\")\n",
    "\n",
    "if __name__ == '__main__':\n",
    "    processes = []\n",
    "    for _ in range(3):\n",
    "        p = multiprocessing.Process(target=worker)\n",
    "        processes.append(p)\n",
    "        p.start()\n",
    "\n",
    "    for p in processes:\n",
    "        p.join()\n",
    "\n",
    "In this code, each process is created using the multiprocessing.Process class, and the worker function is set as the target for each process. The worker function generates a random wait time between 1 and 5 seconds using random.randint() and sleeps for that duration using time.sleep(). After the wait, it retrieves the current time using datetime.now() and prints the process ID, wait time, and current time.\n",
    "\n",
    "The main block of the code creates and starts the processes, and then waits for each process to finish using p.join()."
   ]
  },
  {
   "cell_type": "markdown",
   "id": "cb0f7e77",
   "metadata": {},
   "source": [
    "# 7. Create a date object of your day of birth."
   ]
  },
  {
   "cell_type": "code",
   "execution_count": null,
   "id": "72576f78",
   "metadata": {},
   "outputs": [],
   "source": [
    "from datetime import date\n",
    "\n",
    "birth_date = date(1990, 5, 15)\n",
    "print(birth_date)\n",
    "\n",
    "In this example, the date class from the datetime module is used to create a date object with the year 1990, month 5 (May), and day 15. You can replace these values with your own birthdate. The resulting date object is then printed, displaying the date in the format: YYYY-MM-DD."
   ]
  },
  {
   "cell_type": "markdown",
   "id": "17b05a39",
   "metadata": {},
   "source": [
    "# 8. What day of the week was your day of birth?"
   ]
  },
  {
   "cell_type": "code",
   "execution_count": null,
   "id": "e472260d",
   "metadata": {},
   "outputs": [],
   "source": [
    "To determine the day of the week for a specific date, you can use the strftime method of the date object with the format code %A to obtain the full weekday name. Here's an example:\n",
    "from datetime import date\n",
    "\n",
    "birth_date = date(1990, 5, 15)\n",
    "weekday = birth_date.strftime('%A')\n",
    "print(weekday)\n",
    "\n",
    "In this example, birth_date represents your day of birth. The strftime('%A') method is used to format the date as the full weekday name. The resulting weekday name will be printed, such as \"Monday\", \"Tuesday\", etc."
   ]
  },
  {
   "cell_type": "markdown",
   "id": "0fb44f8e",
   "metadata": {},
   "source": [
    "# 9. When will you be (or when were you) 10,000 days old?"
   ]
  },
  {
   "cell_type": "code",
   "execution_count": null,
   "id": "5d60e535",
   "metadata": {},
   "outputs": [],
   "source": [
    "To calculate the date when you will be or were 10,000 days old, you can use the timedelta class from the datetime module. Here's an example:\n",
    "from datetime import date, timedelta\n",
    "\n",
    "birth_date = date(1990, 5, 15)\n",
    "age_in_days = timedelta(days=10000)\n",
    "target_date = birth_date + age_in_days\n",
    "\n",
    "print(target_date)\n",
    "\n",
    "In this example, birth_date represents your day of birth. The timedelta(days=10000) creates a timedelta object representing 10,000 days. By adding this timedelta to your birth date using the + operator, you get the target date when you will be or were 10,000 days old. The target date will be printed in the format \"YYYY-MM-DD\"."
   ]
  }
 ],
 "metadata": {
  "kernelspec": {
   "display_name": "Python 3 (ipykernel)",
   "language": "python",
   "name": "python3"
  },
  "language_info": {
   "codemirror_mode": {
    "name": "ipython",
    "version": 3
   },
   "file_extension": ".py",
   "mimetype": "text/x-python",
   "name": "python",
   "nbconvert_exporter": "python",
   "pygments_lexer": "ipython3",
   "version": "3.9.12"
  }
 },
 "nbformat": 4,
 "nbformat_minor": 5
}
